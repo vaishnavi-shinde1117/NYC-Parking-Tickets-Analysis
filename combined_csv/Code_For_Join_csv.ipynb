{
 "cells": [
  {
   "cell_type": "code",
   "execution_count": 1,
   "id": "c5bba817",
   "metadata": {},
   "outputs": [],
   "source": [
    "# Intialization\n",
    "import os\n",
    "import sys\n",
    "\n",
    "os.environ[\"SPARK_HOME\"] = \"/home/talentum/spark\"\n",
    "os.environ[\"PYLIB\"] = os.environ[\"SPARK_HOME\"] + \"/python/lib\"\n",
    "# In below two lines, use /usr/bin/python2.7 if you want to use Python 2\n",
    "os.environ[\"PYSPARK_PYTHON\"] = \"/usr/bin/python3.6\" \n",
    "os.environ[\"PYSPARK_DRIVER_PYTHON\"] = \"/usr/bin/python3\"\n",
    "sys.path.insert(0, os.environ[\"PYLIB\"] +\"/py4j-0.10.7-src.zip\")\n",
    "sys.path.insert(0, os.environ[\"PYLIB\"] +\"/pyspark.zip\")\n",
    "\n",
    "# NOTE: Whichever package you want mention here.\n",
    "# os.environ['PYSPARK_SUBMIT_ARGS'] = '--packages com.databricks:spark-xml_2.11:0.6.0 pyspark-shell' \n",
    "# os.environ['PYSPARK_SUBMIT_ARGS'] = '--packages org.apache.spark:spark-avro_2.11:2.4.0 pyspark-shell'\n",
    "os.environ['PYSPARK_SUBMIT_ARGS'] = '--packages com.databricks:spark-xml_2.11:0.6.0,org.apache.spark:spark-avro_2.11:2.4.3 pyspark-shell'\n",
    "# os.environ['PYSPARK_SUBMIT_ARGS'] = '--packages com.databricks:spark-xml_2.11:0.6.0,org.apache.spark:spark-avro_2.11:2.4.0 pyspark-shell'"
   ]
  },
  {
   "cell_type": "code",
   "execution_count": 2,
   "id": "fd423d4c",
   "metadata": {},
   "outputs": [],
   "source": [
    "#Entrypoint 2.x\n",
    "from pyspark.sql import SparkSession\n",
    "spark = SparkSession.builder.appName(\"Spark SQL basic example\").getOrCreate()\n",
    "\n",
    "# On yarn:\n",
    "# spark = SparkSession.builder.appName(\"Spark SQL basic example\").enableHiveSupport().master(\"yarn\").getOrCreate()\n",
    "# specify .master(\"yarn\")\n",
    "\n",
    "sc = spark.sparkContext"
   ]
  },
  {
   "cell_type": "code",
   "execution_count": 3,
   "id": "473c558d",
   "metadata": {},
   "outputs": [],
   "source": [
    "df1 = spark.read.csv(\"Parking_Violations_Issued_-_Fiscal_Year_2014__August_2013___June_2014_.csv\", header=True, inferSchema=True, sep=',', quote='\"', escape='\"')\n"
   ]
  },
  {
   "cell_type": "code",
   "execution_count": 4,
   "id": "6e69807b",
   "metadata": {},
   "outputs": [],
   "source": [
    "df2 = spark.read.csv(\"Parking_Violations_Issued_-_Fiscal_Year_2015.csv\", header=True, inferSchema=True, sep=',', quote='\"', escape='\"')\n"
   ]
  },
  {
   "cell_type": "code",
   "execution_count": 5,
   "id": "36b96e6c",
   "metadata": {},
   "outputs": [],
   "source": [
    "df3 = spark.read.csv(\"Parking_Violations_Issued_-_Fiscal_Year_2016.csv\", header=True, inferSchema=True, sep=',', quote='\"', escape='\"')\n"
   ]
  },
  {
   "cell_type": "code",
   "execution_count": 6,
   "id": "764e299d",
   "metadata": {},
   "outputs": [
    {
     "name": "stdout",
     "output_type": "stream",
     "text": [
      "+--------------+--------+------------------+----------+----------+--------------+-----------------+------------+--------------+------------+------------+------------+-----------------------+------------------+------------------+---------------+-----------+--------------+------------+--------------+-------------------+----------------+---------------------------------+------------+--------------------+-------------------+-------------------+-----------+------------+--------------------+--------------------------+--------------------+------------------+-------------+---------------------+------------+------------+--------------+-------------------+---------------------+---------------------------------+-----------------+------------------------+--------+---------+---------------+------------------+------------+----+----+----+\n",
      "|Summons Number|Plate ID|Registration State|Plate Type|Issue Date|Violation Code|Vehicle Body Type|Vehicle Make|Issuing Agency|Street Code1|Street Code2|Street Code3|Vehicle Expiration Date|Violation Location|Violation Precinct|Issuer Precinct|Issuer Code|Issuer Command|Issuer Squad|Violation Time|Time First Observed|Violation County|Violation In Front Of Or Opposite|House Number|         Street Name|Intersecting Street|Date First Observed|Law Section|Sub Division|Violation Legal Code|Days Parking In Effect    |From Hours In Effect|To Hours In Effect|Vehicle Color|Unregistered Vehicle?|Vehicle Year|Meter Number|Feet From Curb|Violation Post Code|Violation Description|No Standing or Stopping Violation|Hydrant Violation|Double Parking Violation|Latitude|Longitude|Community Board|Community Council |Census Tract| BIN| BBL| NTA|\n",
      "+--------------+--------+------------------+----------+----------+--------------+-----------------+------------+--------------+------------+------------+------------+-----------------------+------------------+------------------+---------------+-----------+--------------+------------+--------------+-------------------+----------------+---------------------------------+------------+--------------------+-------------------+-------------------+-----------+------------+--------------------+--------------------------+--------------------+------------------+-------------+---------------------+------------+------------+--------------+-------------------+---------------------+---------------------------------+-----------------+------------------------+--------+---------+---------------+------------------+------------+----+----+----+\n",
      "|    1283294138| GBB9093|                NY|       PAS|08/04/2013|            46|             SUBN|        AUDI|             P|       37250|       13610|       21190|               20140831|                33|                33|             33|     921043|          0033|        0000|         0752A|               null|            null|                                F|         712|            W 175 ST|               null|                  0|        408|          F1|                null|                   BBBBBBB|                 ALL|               ALL|           GY|                    0|        2013|           -|             0|               null|                 null|                             null|             null|                    null|    null|     null|           null|              null|        null|null|null|null|\n",
      "|    1283294151| 62416MB|                NY|       COM|08/04/2013|            46|              VAN|        FORD|             P|       37290|       40404|       40404|               20140430|                33|                33|             33|     921043|          0033|        0000|         1240P|               null|              NY|                                O|         201|            W 177 ST|               null|                  0|        408|           C|                null|                   BBBBBBB|                 ALL|               ALL|           WH|                    0|        2012|           -|             0|               null|                 null|                             null|             null|                    null|    null|     null|           null|              null|        null|null|null|null|\n",
      "|    1283294163| 78755JZ|                NY|       COM|08/05/2013|            46|              P-U|       CHEVR|             P|       37030|       31190|       13610|               20140228|                33|                33|             33|     921043|          0033|        0000|         1243P|               null|              NY|                                O|         520|            W 163 ST|               null|                  0|        408|          F7|                null|                   BBBBBBB|                 ALL|               ALL|         null|                    0|           0|           -|             0|               null|                 null|                             null|             null|                    null|    null|     null|           null|              null|        null|null|null|null|\n",
      "|    1283294175| 63009MA|                NY|       COM|08/05/2013|            46|              VAN|        FORD|             P|       37270|       11710|       12010|               20141031|                33|                33|             33|     921043|          0033|        0000|         0232P|               null|              NY|                                O|         517|            W 176 ST|               null|                  0|        408|          F1|                null|                   BBBBBBB|                 ALL|               ALL|           WH|                    0|        2010|           -|             0|               null|                 null|                             null|             null|                    null|    null|     null|           null|              null|        null|null|null|null|\n",
      "|    1283294187| 91648MC|                NY|       COM|08/08/2013|            41|             TRLR|         GMC|             P|       37240|       12010|       31190|                      0|                33|                33|             33|     921043|          0033|        0000|         1239P|               null|              NY|                                F|         590|            W 174 ST|               null|                  0|        408|          E1|                null|                   BBBBBBB|                 ALL|               ALL|           BR|                    0|        2012|           -|             0|               null|                 null|                             null|             null|                    null|    null|     null|           null|              null|        null|null|null|null|\n",
      "|    1283294217|  T60DAR|                NJ|       PAS|08/11/2013|            14|              P-U|       DODGE|             P|       37250|       10495|       12010|                      0|                33|                33|             33|     921043|          0033|        0000|         0617P|               null|              NY|                                F|         525|            W 175 ST|               null|                  0|        408|          F1|                null|                   BBBBBBB|                 ALL|               ALL|           RD|                    0|           0|           -|             0|               null|                 null|                             null|             null|                    null|    null|     null|           null|              null|        null|null|null|null|\n",
      "|    1283294229| GCR2838|                NY|       PAS|08/11/2013|            14|              VAN|        null|             P|       37250|       12010|       31190|               20141223|                33|                33|             33|     921043|          0033|        0000|         0741P|               null|              NY|                                F|         551|            W 175 ST|               null|                  0|        408|           C|                null|                   BBBBBBB|                 ALL|               ALL|           GN|                    0|        2011|           -|             0|               null|                 null|                             null|             null|                    null|    null|     null|           null|              null|        null|null|null|null|\n",
      "|    1283983620|  XZ764G|                NJ|       PAS|08/07/2013|            24|             DELV|        FORD|             X|       63430|           0|           0|                      0|                88|                88|            976|     101079|          0976|        0000|         0425A|               null|               K|                                F|         100|      N.PORTLAND AVE|  BROOKLYN NY 11206|                  0|        408|          E5|                null|                   BBBBBBB|                 ALL|               ALL|        WHITE|                    0|           0|           -|             0|               null|                 null|                             null|             null|                    null|    null|     null|           null|              null|        null|null|null|null|\n",
      "|    1283983631| GBH9379|                NY|       PAS|08/07/2013|            24|              SDN|       TOYOT|             X|       63430|           0|           0|               20140722|                88|                88|            976|     101079|          0976|        0000|         0437A|               null|               K|                                F|         100|      N.PORTLAND AVE|  BROOKLYN NY 11206|                  0|        408|          D5|                null|                   BBBBBBB|                 ALL|               ALL|        WHITE|                    0|        2001|           -|             0|               null|                 null|                             null|             null|                    null|    null|     null|           null|              null|        null|null|null|null|\n",
      "|    1283983667|  MCL78B|                NJ|       PAS|07/18/2013|            24|              SDN|       SUBAR|             H|           0|           0|           0|                      0|                79|                79|            976|     101043|          0976|        0000|         0839A|               null|               K|                                F|        null|760 BROADWAY ,BROOKL|  WOODHULL HOSPITAL|                  0|        408|           D|                null|                   BBBBBBB|                 ALL|               ALL|        BLACK|                    0|        2005|           -|             0|               null|                 null|                             null|             null|                    null|    null|     null|           null|              null|        null|null|null|null|\n",
      "|    1283983679|  M367CN|                NY|       PAS|07/18/2013|            24|              SDN|       HYUND|             H|           0|           0|           0|               20140510|                79|                79|            976|     101043|          0976|        0000|         0845A|               null|               K|                                F|        null|760 BROADWAY BROOKLY|  WOODHULL HOSPITAL|                  0|        408|          D5|                null|                   BBBBBBB|                 ALL|               ALL|         BLUE|                    0|        2010|           -|             0|               null|                 null|                             null|             null|                    null|    null|     null|           null|              null|        null|null|null|null|\n",
      "|    1283983734| GAR6813|                NY|       PAS|07/18/2013|            24|              SDN|       TOYOT|             H|           0|           0|           0|               20141008|                79|                79|            976|     101043|          0976|        0000|         0907A|               null|               K|                                F|        null|760 BROADWAY BROOKLY|  WOODHULL HOSPITAL|                  0|        408|          D5|                null|                   BBBBBBB|                 ALL|               ALL|          TAN|                    0|        1998|           -|             0|               null|                 null|                             null|             null|                    null|    null|     null|           null|              null|        null|null|null|null|\n",
      "|    1283983771| GEN8674|                NY|       PAS|07/31/2013|            24|              SDN|        AUDI|             X|           0|           0|           0|               20150331|                79|                79|            976|     101080|          0976|        0000|         0514P|               null|               K|                                F|        null|     760 BDWAY BKLYN|           NY 11206|                  0|        408|          D5|                null|                   BBBBBBB|                 ALL|               ALL|         GOLD|                    0|           0|           -|             0|               null|                 null|                             null|             null|                    null|    null|     null|           null|              null|        null|null|null|null|\n",
      "|    1283983825| GAC2703|                NY|       PAS|08/12/2013|            24|              SDN|       NISSA|             X|       23230|       41330|       83330|               20140713|                79|                79|            976|     101080|          0976|        0000|         0656P|               null|               K|                                F|         760|                 BWY|               null|                  0|        408|          D5|                null|                   BBBBBBB|                 ALL|               ALL|        WHITE|                    0|        2012|           -|             0|               null|                 null|                             null|             null|                    null|    null|     null|           null|              null|        null|null|null|null|\n",
      "|    1286036800| 40793JY|                NY|       COM|07/05/2013|            14|              VAN|       CHEVR|             P|       34190|       10410|       10510|                      0|                13|                13|             13|     944320|          0013|        0000|         1145P|               null|            null|                                F|          59|         W 21 STREET|               null|                  0|        408|           C|                null|                   YYYYYYY|               1100P|             0600A|        GREEN|                    0|        1995|           -|             0|               null|                 null|                             null|             null|                    null|    null|     null|           null|              null|        null|null|null|null|\n",
      "|    1286123550| GAD1485|                NY|       PAS|08/12/2013|            20|              SDN|       VOLKS|             T|       28930|       27530|       29830|               20140729|                76|                76|            730|     337777|          T730|        0000|         0546P|               null|               K|                                O|         221|         CONGRESS ST|               null|                  0|        408|           D|                null|                   BBBBBBB|                 ALL|               ALL|        WHITE|                    0|        2012|           -|             0|               null|                 null|                             null|             null|                    null|    null|     null|           null|              null|        null|null|null|null|\n",
      "|    1286246398| GFC5338|                NY|       PAS|07/26/2013|            14|              SDN|       TOYOT|             T|           0|       40404|       40404|               20150128|                78|                78|              0|     332116|          BKTU|        0000|         1142A|               null|               K|                                O|         145|      PROSPECT PKWAY|               null|                  0|        408|           C|                null|                   YYYYYYY|               0800A|             1000P|         GRAY|                    0|        2010|           -|             0|               null|                 null|                             null|             null|                    null|    null|     null|           null|              null|        null|null|null|null|\n",
      "|    1286246416| 815M342|                MD|       PAS|07/30/2013|            20|             SUBN|       SATUR|             T|           0|           0|           0|               20141288|                88|                88|              0|     332116|          BKTP|        0000|         0724A|               null|               K|                             null|        null|      N/S DEKALB AVE|    E/O ST JAMES PL|                  0|        408|           D|                null|                   YYYYYBB|               0700A|             1000A|        GREEN|                    0|           0|           -|             0|               null|                 null|                             null|             null|                    null|    null|     null|           null|              null|        null|null|null|null|\n",
      "|    1286248000| GJA3452|                NY|       PAS|07/23/2013|            14|              SDN|         KIA|             T|       73690|       40430|       48230|               20140930|                71|                71|            730|     338558|          T730|        0000|         0758A|               null|               K|                                F|         576|          ROGERS AVE|               null|                  0|        408|          J3|                null|                   YYYYYBB|               0700A|             1000A|           WH|                    0|        2013|           -|             0|               null|                 null|                             null|             null|                    null|    null|     null|           null|              null|        null|null|null|null|\n",
      "|    1286282330| YZY6476|                NC|       PAS|07/29/2013|            20|              SDN|       NISSA|             T|       32030|       75130|       50830|               20131088|                81|                81|            730|     332020|          T730|        0000|         0736A|               null|               K|                                F|         702|          DECATUR ST|               null|                  0|        408|          E1|                null|                   BBBBBBB|                 ALL|               ALL|        WHITE|                    0|           0|           -|             0|               null|                 null|                             null|             null|                    null|    null|     null|           null|              null|        null|null|null|null|\n",
      "+--------------+--------+------------------+----------+----------+--------------+-----------------+------------+--------------+------------+------------+------------+-----------------------+------------------+------------------+---------------+-----------+--------------+------------+--------------+-------------------+----------------+---------------------------------+------------+--------------------+-------------------+-------------------+-----------+------------+--------------------+--------------------------+--------------------+------------------+-------------+---------------------+------------+------------+--------------+-------------------+---------------------+---------------------------------+-----------------+------------------------+--------+---------+---------------+------------------+------------+----+----+----+\n",
      "only showing top 20 rows\n",
      "\n"
     ]
    }
   ],
   "source": [
    "df1.show()"
   ]
  },
  {
   "cell_type": "code",
   "execution_count": 7,
   "id": "ad1fb443",
   "metadata": {},
   "outputs": [
    {
     "name": "stdout",
     "output_type": "stream",
     "text": [
      "root\n",
      " |-- Summons Number: long (nullable = true)\n",
      " |-- Plate ID: string (nullable = true)\n",
      " |-- Registration State: string (nullable = true)\n",
      " |-- Plate Type: string (nullable = true)\n",
      " |-- Issue Date: string (nullable = true)\n",
      " |-- Violation Code: integer (nullable = true)\n",
      " |-- Vehicle Body Type: string (nullable = true)\n",
      " |-- Vehicle Make: string (nullable = true)\n",
      " |-- Issuing Agency: string (nullable = true)\n",
      " |-- Street Code1: integer (nullable = true)\n",
      " |-- Street Code2: integer (nullable = true)\n",
      " |-- Street Code3: integer (nullable = true)\n",
      " |-- Vehicle Expiration Date: integer (nullable = true)\n",
      " |-- Violation Location: integer (nullable = true)\n",
      " |-- Violation Precinct: integer (nullable = true)\n",
      " |-- Issuer Precinct: integer (nullable = true)\n",
      " |-- Issuer Code: integer (nullable = true)\n",
      " |-- Issuer Command: string (nullable = true)\n",
      " |-- Issuer Squad: string (nullable = true)\n",
      " |-- Violation Time: string (nullable = true)\n",
      " |-- Time First Observed: string (nullable = true)\n",
      " |-- Violation County: string (nullable = true)\n",
      " |-- Violation In Front Of Or Opposite: string (nullable = true)\n",
      " |-- House Number: string (nullable = true)\n",
      " |-- Street Name: string (nullable = true)\n",
      " |-- Intersecting Street: string (nullable = true)\n",
      " |-- Date First Observed: integer (nullable = true)\n",
      " |-- Law Section: integer (nullable = true)\n",
      " |-- Sub Division: string (nullable = true)\n",
      " |-- Violation Legal Code: string (nullable = true)\n",
      " |-- Days Parking In Effect    : string (nullable = true)\n",
      " |-- From Hours In Effect: string (nullable = true)\n",
      " |-- To Hours In Effect: string (nullable = true)\n",
      " |-- Vehicle Color: string (nullable = true)\n",
      " |-- Unregistered Vehicle?: integer (nullable = true)\n",
      " |-- Vehicle Year: integer (nullable = true)\n",
      " |-- Meter Number: string (nullable = true)\n",
      " |-- Feet From Curb: integer (nullable = true)\n",
      " |-- Violation Post Code: string (nullable = true)\n",
      " |-- Violation Description: string (nullable = true)\n",
      " |-- No Standing or Stopping Violation: string (nullable = true)\n",
      " |-- Hydrant Violation: string (nullable = true)\n",
      " |-- Double Parking Violation: string (nullable = true)\n",
      " |-- Latitude: string (nullable = true)\n",
      " |-- Longitude: string (nullable = true)\n",
      " |-- Community Board: string (nullable = true)\n",
      " |-- Community Council : string (nullable = true)\n",
      " |-- Census Tract: string (nullable = true)\n",
      " |-- BIN: string (nullable = true)\n",
      " |-- BBL: string (nullable = true)\n",
      " |-- NTA: string (nullable = true)\n",
      "\n"
     ]
    }
   ],
   "source": [
    "df1.printSchema()"
   ]
  },
  {
   "cell_type": "code",
   "execution_count": 8,
   "id": "8d094297",
   "metadata": {},
   "outputs": [],
   "source": [
    "df1.createOrReplaceTempView(\"df1\")"
   ]
  },
  {
   "cell_type": "code",
   "execution_count": 9,
   "id": "9ddcaf00",
   "metadata": {},
   "outputs": [],
   "source": [
    "df2.createOrReplaceTempView(\"df2\")"
   ]
  },
  {
   "cell_type": "code",
   "execution_count": 10,
   "id": "0e74c2bd",
   "metadata": {},
   "outputs": [
    {
     "name": "stdout",
     "output_type": "stream",
     "text": [
      "root\n",
      " |-- Summons Number: long (nullable = true)\n",
      " |-- Plate ID: string (nullable = true)\n",
      " |-- Registration State: string (nullable = true)\n",
      " |-- Plate Type: string (nullable = true)\n",
      " |-- Issue Date: string (nullable = true)\n",
      " |-- Violation Code: integer (nullable = true)\n",
      " |-- Vehicle Body Type: string (nullable = true)\n",
      " |-- Vehicle Make: string (nullable = true)\n",
      " |-- Issuing Agency: string (nullable = true)\n",
      " |-- Street Code1: integer (nullable = true)\n",
      " |-- Street Code2: integer (nullable = true)\n",
      " |-- Street Code3: integer (nullable = true)\n",
      " |-- Vehicle Expiration Date: string (nullable = true)\n",
      " |-- Violation Location: integer (nullable = true)\n",
      " |-- Violation Precinct: integer (nullable = true)\n",
      " |-- Issuer Precinct: integer (nullable = true)\n",
      " |-- Issuer Code: integer (nullable = true)\n",
      " |-- Issuer Command: string (nullable = true)\n",
      " |-- Issuer Squad: string (nullable = true)\n",
      " |-- Violation Time: string (nullable = true)\n",
      " |-- Time First Observed: string (nullable = true)\n",
      " |-- Violation County: string (nullable = true)\n",
      " |-- Violation In Front Of Or Opposite: string (nullable = true)\n",
      " |-- House Number: string (nullable = true)\n",
      " |-- Street Name: string (nullable = true)\n",
      " |-- Intersecting Street: string (nullable = true)\n",
      " |-- Date First Observed: string (nullable = true)\n",
      " |-- Law Section: integer (nullable = true)\n",
      " |-- Sub Division: string (nullable = true)\n",
      " |-- Violation Legal Code: string (nullable = true)\n",
      " |-- Days Parking In Effect    : string (nullable = true)\n",
      " |-- From Hours In Effect: string (nullable = true)\n",
      " |-- To Hours In Effect: string (nullable = true)\n",
      " |-- Vehicle Color: string (nullable = true)\n",
      " |-- Unregistered Vehicle?: integer (nullable = true)\n",
      " |-- Vehicle Year: integer (nullable = true)\n",
      " |-- Meter Number: string (nullable = true)\n",
      " |-- Feet From Curb: integer (nullable = true)\n",
      " |-- Violation Post Code: string (nullable = true)\n",
      " |-- Violation Description: string (nullable = true)\n",
      " |-- No Standing or Stopping Violation: string (nullable = true)\n",
      " |-- Hydrant Violation: string (nullable = true)\n",
      " |-- Double Parking Violation: string (nullable = true)\n",
      " |-- Latitude: string (nullable = true)\n",
      " |-- Longitude: string (nullable = true)\n",
      " |-- Community Board: string (nullable = true)\n",
      " |-- Community Council : string (nullable = true)\n",
      " |-- Census Tract: string (nullable = true)\n",
      " |-- BIN: string (nullable = true)\n",
      " |-- BBL: string (nullable = true)\n",
      " |-- NTA: string (nullable = true)\n",
      "\n"
     ]
    }
   ],
   "source": [
    "df2.printSchema()"
   ]
  },
  {
   "cell_type": "code",
   "execution_count": 11,
   "id": "b2bffca5",
   "metadata": {},
   "outputs": [
    {
     "name": "stdout",
     "output_type": "stream",
     "text": [
      "Number of columns (DataFrame API): 51\n"
     ]
    }
   ],
   "source": [
    "num_columns_api = len(df1.columns)\n",
    "print(f\"Number of columns (DataFrame API): {num_columns_api}\")"
   ]
  },
  {
   "cell_type": "code",
   "execution_count": 12,
   "id": "ebd6f67d",
   "metadata": {},
   "outputs": [
    {
     "name": "stdout",
     "output_type": "stream",
     "text": [
      "Number of columns (DataFrame API): 51\n"
     ]
    }
   ],
   "source": [
    "num_columns_api = len(df2.columns)\n",
    "print(f\"Number of columns (DataFrame API): {num_columns_api}\")"
   ]
  },
  {
   "cell_type": "code",
   "execution_count": 13,
   "id": "a6b01b49",
   "metadata": {},
   "outputs": [],
   "source": [
    "\n",
    "import pyspark.sql.functions as F\n",
    "\n",
    "# Assuming df1 and df2 are your Spark DataFrames\n",
    "\n",
    "# Union the DataFrames\n",
    "combined_df = df1.union(df2)\n",
    "\n"
   ]
  },
  {
   "cell_type": "code",
   "execution_count": 14,
   "id": "1d4cbfad",
   "metadata": {},
   "outputs": [
    {
     "name": "stdout",
     "output_type": "stream",
     "text": [
      "+--------------+--------+------------------+----------+----------+--------------+-----------------+------------+--------------+------------+------------+------------+-----------------------+------------------+------------------+---------------+-----------+--------------+------------+--------------+-------------------+----------------+---------------------------------+------------+--------------------+-------------------+-------------------+-----------+------------+--------------------+--------------------------+--------------------+------------------+-------------+---------------------+------------+------------+--------------+-------------------+---------------------+---------------------------------+-----------------+------------------------+--------+---------+---------------+------------------+------------+----+----+----+\n",
      "|Summons Number|Plate ID|Registration State|Plate Type|Issue Date|Violation Code|Vehicle Body Type|Vehicle Make|Issuing Agency|Street Code1|Street Code2|Street Code3|Vehicle Expiration Date|Violation Location|Violation Precinct|Issuer Precinct|Issuer Code|Issuer Command|Issuer Squad|Violation Time|Time First Observed|Violation County|Violation In Front Of Or Opposite|House Number|         Street Name|Intersecting Street|Date First Observed|Law Section|Sub Division|Violation Legal Code|Days Parking In Effect    |From Hours In Effect|To Hours In Effect|Vehicle Color|Unregistered Vehicle?|Vehicle Year|Meter Number|Feet From Curb|Violation Post Code|Violation Description|No Standing or Stopping Violation|Hydrant Violation|Double Parking Violation|Latitude|Longitude|Community Board|Community Council |Census Tract| BIN| BBL| NTA|\n",
      "+--------------+--------+------------------+----------+----------+--------------+-----------------+------------+--------------+------------+------------+------------+-----------------------+------------------+------------------+---------------+-----------+--------------+------------+--------------+-------------------+----------------+---------------------------------+------------+--------------------+-------------------+-------------------+-----------+------------+--------------------+--------------------------+--------------------+------------------+-------------+---------------------+------------+------------+--------------+-------------------+---------------------+---------------------------------+-----------------+------------------------+--------+---------+---------------+------------------+------------+----+----+----+\n",
      "|    1283294138| GBB9093|                NY|       PAS|08/04/2013|            46|             SUBN|        AUDI|             P|       37250|       13610|       21190|               20140831|                33|                33|             33|     921043|          0033|        0000|         0752A|               null|            null|                                F|         712|            W 175 ST|               null|                  0|        408|          F1|                null|                   BBBBBBB|                 ALL|               ALL|           GY|                    0|        2013|           -|             0|               null|                 null|                             null|             null|                    null|    null|     null|           null|              null|        null|null|null|null|\n",
      "|    1283294151| 62416MB|                NY|       COM|08/04/2013|            46|              VAN|        FORD|             P|       37290|       40404|       40404|               20140430|                33|                33|             33|     921043|          0033|        0000|         1240P|               null|              NY|                                O|         201|            W 177 ST|               null|                  0|        408|           C|                null|                   BBBBBBB|                 ALL|               ALL|           WH|                    0|        2012|           -|             0|               null|                 null|                             null|             null|                    null|    null|     null|           null|              null|        null|null|null|null|\n",
      "|    1283294163| 78755JZ|                NY|       COM|08/05/2013|            46|              P-U|       CHEVR|             P|       37030|       31190|       13610|               20140228|                33|                33|             33|     921043|          0033|        0000|         1243P|               null|              NY|                                O|         520|            W 163 ST|               null|                  0|        408|          F7|                null|                   BBBBBBB|                 ALL|               ALL|         null|                    0|           0|           -|             0|               null|                 null|                             null|             null|                    null|    null|     null|           null|              null|        null|null|null|null|\n",
      "|    1283294175| 63009MA|                NY|       COM|08/05/2013|            46|              VAN|        FORD|             P|       37270|       11710|       12010|               20141031|                33|                33|             33|     921043|          0033|        0000|         0232P|               null|              NY|                                O|         517|            W 176 ST|               null|                  0|        408|          F1|                null|                   BBBBBBB|                 ALL|               ALL|           WH|                    0|        2010|           -|             0|               null|                 null|                             null|             null|                    null|    null|     null|           null|              null|        null|null|null|null|\n",
      "|    1283294187| 91648MC|                NY|       COM|08/08/2013|            41|             TRLR|         GMC|             P|       37240|       12010|       31190|                      0|                33|                33|             33|     921043|          0033|        0000|         1239P|               null|              NY|                                F|         590|            W 174 ST|               null|                  0|        408|          E1|                null|                   BBBBBBB|                 ALL|               ALL|           BR|                    0|        2012|           -|             0|               null|                 null|                             null|             null|                    null|    null|     null|           null|              null|        null|null|null|null|\n",
      "|    1283294217|  T60DAR|                NJ|       PAS|08/11/2013|            14|              P-U|       DODGE|             P|       37250|       10495|       12010|                      0|                33|                33|             33|     921043|          0033|        0000|         0617P|               null|              NY|                                F|         525|            W 175 ST|               null|                  0|        408|          F1|                null|                   BBBBBBB|                 ALL|               ALL|           RD|                    0|           0|           -|             0|               null|                 null|                             null|             null|                    null|    null|     null|           null|              null|        null|null|null|null|\n",
      "|    1283294229| GCR2838|                NY|       PAS|08/11/2013|            14|              VAN|        null|             P|       37250|       12010|       31190|               20141223|                33|                33|             33|     921043|          0033|        0000|         0741P|               null|              NY|                                F|         551|            W 175 ST|               null|                  0|        408|           C|                null|                   BBBBBBB|                 ALL|               ALL|           GN|                    0|        2011|           -|             0|               null|                 null|                             null|             null|                    null|    null|     null|           null|              null|        null|null|null|null|\n",
      "|    1283983620|  XZ764G|                NJ|       PAS|08/07/2013|            24|             DELV|        FORD|             X|       63430|           0|           0|                      0|                88|                88|            976|     101079|          0976|        0000|         0425A|               null|               K|                                F|         100|      N.PORTLAND AVE|  BROOKLYN NY 11206|                  0|        408|          E5|                null|                   BBBBBBB|                 ALL|               ALL|        WHITE|                    0|           0|           -|             0|               null|                 null|                             null|             null|                    null|    null|     null|           null|              null|        null|null|null|null|\n",
      "|    1283983631| GBH9379|                NY|       PAS|08/07/2013|            24|              SDN|       TOYOT|             X|       63430|           0|           0|               20140722|                88|                88|            976|     101079|          0976|        0000|         0437A|               null|               K|                                F|         100|      N.PORTLAND AVE|  BROOKLYN NY 11206|                  0|        408|          D5|                null|                   BBBBBBB|                 ALL|               ALL|        WHITE|                    0|        2001|           -|             0|               null|                 null|                             null|             null|                    null|    null|     null|           null|              null|        null|null|null|null|\n",
      "|    1283983667|  MCL78B|                NJ|       PAS|07/18/2013|            24|              SDN|       SUBAR|             H|           0|           0|           0|                      0|                79|                79|            976|     101043|          0976|        0000|         0839A|               null|               K|                                F|        null|760 BROADWAY ,BROOKL|  WOODHULL HOSPITAL|                  0|        408|           D|                null|                   BBBBBBB|                 ALL|               ALL|        BLACK|                    0|        2005|           -|             0|               null|                 null|                             null|             null|                    null|    null|     null|           null|              null|        null|null|null|null|\n",
      "|    1283983679|  M367CN|                NY|       PAS|07/18/2013|            24|              SDN|       HYUND|             H|           0|           0|           0|               20140510|                79|                79|            976|     101043|          0976|        0000|         0845A|               null|               K|                                F|        null|760 BROADWAY BROOKLY|  WOODHULL HOSPITAL|                  0|        408|          D5|                null|                   BBBBBBB|                 ALL|               ALL|         BLUE|                    0|        2010|           -|             0|               null|                 null|                             null|             null|                    null|    null|     null|           null|              null|        null|null|null|null|\n",
      "|    1283983734| GAR6813|                NY|       PAS|07/18/2013|            24|              SDN|       TOYOT|             H|           0|           0|           0|               20141008|                79|                79|            976|     101043|          0976|        0000|         0907A|               null|               K|                                F|        null|760 BROADWAY BROOKLY|  WOODHULL HOSPITAL|                  0|        408|          D5|                null|                   BBBBBBB|                 ALL|               ALL|          TAN|                    0|        1998|           -|             0|               null|                 null|                             null|             null|                    null|    null|     null|           null|              null|        null|null|null|null|\n",
      "|    1283983771| GEN8674|                NY|       PAS|07/31/2013|            24|              SDN|        AUDI|             X|           0|           0|           0|               20150331|                79|                79|            976|     101080|          0976|        0000|         0514P|               null|               K|                                F|        null|     760 BDWAY BKLYN|           NY 11206|                  0|        408|          D5|                null|                   BBBBBBB|                 ALL|               ALL|         GOLD|                    0|           0|           -|             0|               null|                 null|                             null|             null|                    null|    null|     null|           null|              null|        null|null|null|null|\n",
      "|    1283983825| GAC2703|                NY|       PAS|08/12/2013|            24|              SDN|       NISSA|             X|       23230|       41330|       83330|               20140713|                79|                79|            976|     101080|          0976|        0000|         0656P|               null|               K|                                F|         760|                 BWY|               null|                  0|        408|          D5|                null|                   BBBBBBB|                 ALL|               ALL|        WHITE|                    0|        2012|           -|             0|               null|                 null|                             null|             null|                    null|    null|     null|           null|              null|        null|null|null|null|\n",
      "|    1286036800| 40793JY|                NY|       COM|07/05/2013|            14|              VAN|       CHEVR|             P|       34190|       10410|       10510|                      0|                13|                13|             13|     944320|          0013|        0000|         1145P|               null|            null|                                F|          59|         W 21 STREET|               null|                  0|        408|           C|                null|                   YYYYYYY|               1100P|             0600A|        GREEN|                    0|        1995|           -|             0|               null|                 null|                             null|             null|                    null|    null|     null|           null|              null|        null|null|null|null|\n",
      "|    1286123550| GAD1485|                NY|       PAS|08/12/2013|            20|              SDN|       VOLKS|             T|       28930|       27530|       29830|               20140729|                76|                76|            730|     337777|          T730|        0000|         0546P|               null|               K|                                O|         221|         CONGRESS ST|               null|                  0|        408|           D|                null|                   BBBBBBB|                 ALL|               ALL|        WHITE|                    0|        2012|           -|             0|               null|                 null|                             null|             null|                    null|    null|     null|           null|              null|        null|null|null|null|\n",
      "|    1286246398| GFC5338|                NY|       PAS|07/26/2013|            14|              SDN|       TOYOT|             T|           0|       40404|       40404|               20150128|                78|                78|              0|     332116|          BKTU|        0000|         1142A|               null|               K|                                O|         145|      PROSPECT PKWAY|               null|                  0|        408|           C|                null|                   YYYYYYY|               0800A|             1000P|         GRAY|                    0|        2010|           -|             0|               null|                 null|                             null|             null|                    null|    null|     null|           null|              null|        null|null|null|null|\n",
      "|    1286246416| 815M342|                MD|       PAS|07/30/2013|            20|             SUBN|       SATUR|             T|           0|           0|           0|               20141288|                88|                88|              0|     332116|          BKTP|        0000|         0724A|               null|               K|                             null|        null|      N/S DEKALB AVE|    E/O ST JAMES PL|                  0|        408|           D|                null|                   YYYYYBB|               0700A|             1000A|        GREEN|                    0|           0|           -|             0|               null|                 null|                             null|             null|                    null|    null|     null|           null|              null|        null|null|null|null|\n",
      "|    1286248000| GJA3452|                NY|       PAS|07/23/2013|            14|              SDN|         KIA|             T|       73690|       40430|       48230|               20140930|                71|                71|            730|     338558|          T730|        0000|         0758A|               null|               K|                                F|         576|          ROGERS AVE|               null|                  0|        408|          J3|                null|                   YYYYYBB|               0700A|             1000A|           WH|                    0|        2013|           -|             0|               null|                 null|                             null|             null|                    null|    null|     null|           null|              null|        null|null|null|null|\n",
      "|    1286282330| YZY6476|                NC|       PAS|07/29/2013|            20|              SDN|       NISSA|             T|       32030|       75130|       50830|               20131088|                81|                81|            730|     332020|          T730|        0000|         0736A|               null|               K|                                F|         702|          DECATUR ST|               null|                  0|        408|          E1|                null|                   BBBBBBB|                 ALL|               ALL|        WHITE|                    0|           0|           -|             0|               null|                 null|                             null|             null|                    null|    null|     null|           null|              null|        null|null|null|null|\n",
      "+--------------+--------+------------------+----------+----------+--------------+-----------------+------------+--------------+------------+------------+------------+-----------------------+------------------+------------------+---------------+-----------+--------------+------------+--------------+-------------------+----------------+---------------------------------+------------+--------------------+-------------------+-------------------+-----------+------------+--------------------+--------------------------+--------------------+------------------+-------------+---------------------+------------+------------+--------------+-------------------+---------------------+---------------------------------+-----------------+------------------------+--------+---------+---------------+------------------+------------+----+----+----+\n",
      "only showing top 20 rows\n",
      "\n"
     ]
    }
   ],
   "source": [
    "combined_df.show()"
   ]
  },
  {
   "cell_type": "code",
   "execution_count": 15,
   "id": "1006bf7e",
   "metadata": {},
   "outputs": [
    {
     "data": {
      "text/plain": [
       "51"
      ]
     },
     "execution_count": 15,
     "metadata": {},
     "output_type": "execute_result"
    }
   ],
   "source": [
    "len(combined_df.columns)"
   ]
  },
  {
   "cell_type": "code",
   "execution_count": 16,
   "id": "1c49a2f0",
   "metadata": {},
   "outputs": [
    {
     "data": {
      "text/plain": [
       "20909511"
      ]
     },
     "execution_count": 16,
     "metadata": {},
     "output_type": "execute_result"
    }
   ],
   "source": [
    "combined_df.count()"
   ]
  },
  {
   "cell_type": "code",
   "execution_count": 17,
   "id": "183abff2",
   "metadata": {},
   "outputs": [],
   "source": [
    "final_df = combined_df.union(df3)"
   ]
  },
  {
   "cell_type": "code",
   "execution_count": 18,
   "id": "b3f61c95",
   "metadata": {},
   "outputs": [
    {
     "data": {
      "text/plain": [
       "31536410"
      ]
     },
     "execution_count": 18,
     "metadata": {},
     "output_type": "execute_result"
    }
   ],
   "source": [
    "final_df.count()"
   ]
  },
  {
   "cell_type": "code",
   "execution_count": 19,
   "id": "c8d064dd",
   "metadata": {},
   "outputs": [
    {
     "data": {
      "text/plain": [
       "51"
      ]
     },
     "execution_count": 19,
     "metadata": {},
     "output_type": "execute_result"
    }
   ],
   "source": [
    "len(final_df.columns)"
   ]
  },
  {
   "cell_type": "code",
   "execution_count": 20,
   "id": "a3c97db8",
   "metadata": {},
   "outputs": [],
   "source": [
    "final_df.coalesce(1).write.format(\"csv\") \\\n",
    "  .option(\"header\", \"true\") \\\n",
    "  .mode(\"overwrite\") \\\n",
    "  .save(\"output_NYC.csv\")"
   ]
  },
  {
   "cell_type": "code",
   "execution_count": 22,
   "id": "24c4d920",
   "metadata": {},
   "outputs": [
    {
     "name": "stdout",
     "output_type": "stream",
     "text": [
      "Shape of DataFrame: (31536410, 51)\n"
     ]
    }
   ],
   "source": [
    "num_rows = final_df.count()\n",
    "num_columns = len(final_df.columns)\n",
    "print(f\"Shape of DataFrame: ({num_rows}, {num_columns})\")"
   ]
  },
  {
   "cell_type": "code",
   "execution_count": null,
   "id": "9b99cd69",
   "metadata": {},
   "outputs": [],
   "source": []
  }
 ],
 "metadata": {
  "kernelspec": {
   "display_name": "Python 3",
   "language": "python",
   "name": "python3"
  },
  "language_info": {
   "codemirror_mode": {
    "name": "ipython",
    "version": 3
   },
   "file_extension": ".py",
   "mimetype": "text/x-python",
   "name": "python",
   "nbconvert_exporter": "python",
   "pygments_lexer": "ipython3",
   "version": "3.6.9"
  }
 },
 "nbformat": 4,
 "nbformat_minor": 5
}
